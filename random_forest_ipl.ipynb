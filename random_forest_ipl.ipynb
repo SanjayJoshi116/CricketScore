{
 "cells": [
  {
   "cell_type": "code",
   "execution_count": 2,
   "id": "9bb92d42",
   "metadata": {},
   "outputs": [],
   "source": [
    "import pandas as pd\n",
    "import numpy as np\n",
    "dataset = pd.read_csv('ipl.csv')\n",
    "X = dataset.iloc[:,[7,8,9,12,13]].values\n",
    "y = dataset.iloc[:, 14].values"
   ]
  },
  {
   "cell_type": "code",
   "execution_count": 3,
   "id": "1fe3241f",
   "metadata": {},
   "outputs": [],
   "source": [
    "from sklearn.model_selection import train_test_split\n",
    "X_train, X_test, y_train, y_test = train_test_split(X, y, test_size = 0.25, random_state = 0)"
   ]
  },
  {
   "cell_type": "code",
   "execution_count": 4,
   "id": "ceef1fdf",
   "metadata": {},
   "outputs": [],
   "source": [
    "from sklearn.preprocessing import StandardScaler\n",
    "sc = StandardScaler()\n",
    "X_train = sc.fit_transform(X_train)\n",
    "X_test = sc.transform(X_test)"
   ]
  },
  {
   "cell_type": "code",
   "execution_count": 5,
   "id": "f7fcf7c8",
   "metadata": {},
   "outputs": [
    {
     "data": {
      "text/plain": [
       "RandomForestRegressor(max_features=None)"
      ]
     },
     "execution_count": 5,
     "metadata": {},
     "output_type": "execute_result"
    }
   ],
   "source": [
    "from sklearn.ensemble import RandomForestRegressor\n",
    "reg = RandomForestRegressor(n_estimators=100,max_features=None)\n",
    "reg.fit(X_train,y_train)"
   ]
  },
  {
   "cell_type": "code",
   "execution_count": 6,
   "id": "accf578d",
   "metadata": {},
   "outputs": [
    {
     "name": "stdout",
     "output_type": "stream",
     "text": [
      "R square value: 47.53560876150361\n"
     ]
    }
   ],
   "source": [
    "y_pred = reg.predict(X_test)\n",
    "score = reg.score(X_test,y_test)*100\n",
    "print(\"R square value:\" , score)"
   ]
  },
  {
   "cell_type": "code",
   "execution_count": 7,
   "id": "a29d0f74",
   "metadata": {},
   "outputs": [
    {
     "name": "stdout",
     "output_type": "stream",
     "text": [
      "Enter Runs47\n",
      "Enter Wickets5\n",
      "Enter Overs6\n",
      "Enter Striker's Runs14\n",
      "Enter Non Striker's Runs2\n"
     ]
    }
   ],
   "source": [
    "runs = int(input(\"Enter Runs\"))\n",
    "wicket = int(input(\"Enter Wickets\"))\n",
    "over = int(input(\"Enter Overs\"))\n",
    "striker = int(input(\"Enter Striker's Runs\"))\n",
    "non_striker = int(input(\"Enter Non Striker's Runs\"))"
   ]
  },
  {
   "cell_type": "code",
   "execution_count": 9,
   "id": "fc0d6f6c",
   "metadata": {},
   "outputs": [
    {
     "name": "stdout",
     "output_type": "stream",
     "text": [
      "Prediction score: [119.55]\n"
     ]
    }
   ],
   "source": [
    "if over < 20:\n",
    "    new_prediction = reg.predict(sc.transform(np.array([[runs,wicket,over,striker,non_striker]])))\n",
    "else: \n",
    "    print(\"This is a T20 Match\")\n",
    "print(\"Prediction score:\" , new_prediction)"
   ]
  },
  {
   "cell_type": "code",
   "execution_count": null,
   "id": "2614cf98",
   "metadata": {},
   "outputs": [],
   "source": []
  }
 ],
 "metadata": {
  "kernelspec": {
   "display_name": "Python 3 (ipykernel)",
   "language": "python",
   "name": "python3"
  },
  "language_info": {
   "codemirror_mode": {
    "name": "ipython",
    "version": 3
   },
   "file_extension": ".py",
   "mimetype": "text/x-python",
   "name": "python",
   "nbconvert_exporter": "python",
   "pygments_lexer": "ipython3",
   "version": "3.9.13"
  }
 },
 "nbformat": 4,
 "nbformat_minor": 5
}
