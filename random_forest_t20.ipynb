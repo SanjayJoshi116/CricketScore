{
 "cells": [
  {
   "cell_type": "code",
   "execution_count": 14,
   "id": "44e56b7f",
   "metadata": {},
   "outputs": [],
   "source": [
    "import pandas as pd\n",
    "import numpy as np\n",
    "import matplotlib.pyplot as plt\n",
    "# Importing the dataset\n",
    "dataset = pd.read_csv('t20.csv')\n",
    "X = dataset.iloc[:,[7,8,9,12,13]].values\n",
    "y = dataset.iloc[:, 14].values"
   ]
  },
  {
   "cell_type": "code",
   "execution_count": 15,
   "id": "5d75b7cf",
   "metadata": {},
   "outputs": [],
   "source": [
    "from sklearn.model_selection import train_test_split\n",
    "X_train, X_test, y_train, y_test = train_test_split(X, y, test_size = 0.25, random_state = 0)"
   ]
  },
  {
   "cell_type": "code",
   "execution_count": 16,
   "id": "e69ac317",
   "metadata": {},
   "outputs": [],
   "source": [
    "from sklearn.preprocessing import StandardScaler\n",
    "sc = StandardScaler()\n",
    "X_train = sc.fit_transform(X_train)\n",
    "X_test = sc.transform(X_test)"
   ]
  },
  {
   "cell_type": "code",
   "execution_count": 18,
   "id": "d6b0ecfd",
   "metadata": {},
   "outputs": [
    {
     "data": {
      "text/plain": [
       "RandomForestRegressor(max_features=None)"
      ]
     },
     "execution_count": 18,
     "metadata": {},
     "output_type": "execute_result"
    }
   ],
   "source": [
    "from sklearn.ensemble import RandomForestRegressor\n",
    "reg = RandomForestRegressor(n_estimators=100,max_features=None)\n",
    "reg.fit(X_train,y_train)"
   ]
  },
  {
   "cell_type": "code",
   "execution_count": 19,
   "id": "f39a73c4",
   "metadata": {},
   "outputs": [
    {
     "name": "stdout",
     "output_type": "stream",
     "text": [
      "R square value: 64.61878157499153\n"
     ]
    }
   ],
   "source": [
    "y_pred = reg.predict(X_test)\n",
    "score = reg.score(X_test,y_test)*100\n",
    "print(\"R square value:\" , score)"
   ]
  },
  {
   "cell_type": "code",
   "execution_count": 20,
   "id": "ef63be95",
   "metadata": {},
   "outputs": [
    {
     "name": "stdout",
     "output_type": "stream",
     "text": [
      "Enter Runs160\n",
      "Enter Wickets3\n",
      "Enter Overs16\n",
      "Enter Striker's Runs56\n",
      "Enter Non Striker's Runs0\n"
     ]
    }
   ],
   "source": [
    "runs = int(input(\"Enter Runs\"))\n",
    "wicket = int(input(\"Enter Wickets\"))\n",
    "over = int(input(\"Enter Overs\"))\n",
    "striker = int(input(\"Enter Striker's Runs\"))\n",
    "non_striker = int(input(\"Enter Non Striker's Runs\"))"
   ]
  },
  {
   "cell_type": "code",
   "execution_count": 21,
   "id": "b883a344",
   "metadata": {},
   "outputs": [
    {
     "name": "stdout",
     "output_type": "stream",
     "text": [
      "Prediction score: [205.89]\n"
     ]
    }
   ],
   "source": [
    "if over < 20:\n",
    "    new_prediction = reg.predict(sc.transform(np.array([[runs,wicket,over,striker,non_striker]])))\n",
    "else: \n",
    "    print(\"This is a T20 Match\")\n",
    "print(\"Prediction score:\" , new_prediction)"
   ]
  },
  {
   "cell_type": "code",
   "execution_count": null,
   "id": "e86742d4",
   "metadata": {},
   "outputs": [],
   "source": []
  }
 ],
 "metadata": {
  "kernelspec": {
   "display_name": "Python 3 (ipykernel)",
   "language": "python",
   "name": "python3"
  },
  "language_info": {
   "codemirror_mode": {
    "name": "ipython",
    "version": 3
   },
   "file_extension": ".py",
   "mimetype": "text/x-python",
   "name": "python",
   "nbconvert_exporter": "python",
   "pygments_lexer": "ipython3",
   "version": "3.9.13"
  }
 },
 "nbformat": 4,
 "nbformat_minor": 5
}
