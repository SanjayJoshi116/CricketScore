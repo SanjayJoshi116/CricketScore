{
 "cells": [
  {
   "cell_type": "code",
   "execution_count": null,
   "id": "b81bae2d",
   "metadata": {},
   "outputs": [],
   "source": [
    "import pandas as pd\n",
    "import numpy as np\n",
    "dataset = pd.read_csv('ipl.csv')"
   ]
  },
  {
   "cell_type": "code",
   "execution_count": null,
   "id": "c3d40218",
   "metadata": {},
   "outputs": [],
   "source": [
    "dataset['batting_team_total_runs'] = dataset.groupby(['mid', 'bat_team'])['runs'].cumsum()"
   ]
  },
  {
   "cell_type": "code",
   "execution_count": null,
   "id": "f5cb2629",
   "metadata": {},
   "outputs": [],
   "source": [
    "X = dataset.iloc[:, [7, 8, 9, 12, 13, 15]].values  # Include the new feature\n",
    "y = dataset.iloc[:, 14].values"
   ]
  },
  {
   "cell_type": "code",
   "execution_count": null,
   "id": "3bde2e61",
   "metadata": {},
   "outputs": [],
   "source": [
    "from sklearn.model_selection import train_test_split\n",
    "from sklearn.preprocessing import StandardScaler\n",
    "from sklearn.ensemble import RandomForestRegressor"
   ]
  },
  {
   "cell_type": "code",
   "execution_count": null,
   "id": "d2fc68d3",
   "metadata": {},
   "outputs": [],
   "source": [
    "# Split the dataset into training and testing sets\n",
    "X_train, X_test, y_train, y_test = train_test_split(X, y, test_size=0.25, random_state=0)"
   ]
  },
  {
   "cell_type": "code",
   "execution_count": null,
   "id": "81a5656c",
   "metadata": {},
   "outputs": [],
   "source": [
    "# Scale the features\n",
    "sc = StandardScaler()\n",
    "X_train = sc.fit_transform(X_train)\n",
    "X_test = sc.transform(X_test)"
   ]
  },
  {
   "cell_type": "code",
   "execution_count": null,
   "id": "67eece04",
   "metadata": {},
   "outputs": [],
   "source": [
    "# Train the RandomForestRegressor model\n",
    "reg = RandomForestRegressor(n_estimators=100, max_features=None)\n",
    "reg.fit(X_train, y_train)"
   ]
  },
  {
   "cell_type": "code",
   "execution_count": null,
   "id": "5ce95de0",
   "metadata": {},
   "outputs": [],
   "source": [
    "y_pred = reg.predict(X_test)\n",
    "score = reg.score(X_test, y_test) * 100\n",
    "print(\"R square value:\", score)"
   ]
  },
  {
   "cell_type": "code",
   "execution_count": null,
   "id": "f0868a0e",
   "metadata": {},
   "outputs": [],
   "source": [
    "runs = int(input(\"Enter Runs: \"))\n",
    "wicket = int(input(\"Enter Wickets: \"))\n",
    "over = int(input(\"Enter Overs: \"))\n",
    "striker = int(input(\"Enter Striker's Runs: \"))\n",
    "non_striker = int(input(\"Enter Non Striker's Runs: \"))"
   ]
  },
  {
   "cell_type": "code",
   "execution_count": null,
   "id": "d4c70467",
   "metadata": {},
   "outputs": [],
   "source": [
    "# Find the batting team's total runs based on the entered team name\n",
    "bat_team = input(\"Enter Batting Team: \")"
   ]
  },
  {
   "cell_type": "code",
   "execution_count": null,
   "id": "07f471ef",
   "metadata": {},
   "outputs": [],
   "source": [
    "# Filter the dataset to fetch data for the entered batting team\n",
    "team_data = dataset[dataset['bat_team'] == bat_team]"
   ]
  },
  {
   "cell_type": "code",
   "execution_count": null,
   "id": "e260a6f4",
   "metadata": {},
   "outputs": [],
   "source": [
    "if team_data.empty:\n",
    "    print(\"No data available for the entered batting team.\")\n",
    "else:\n",
    "    # Calculate the batting team's total runs\n",
    "    batting_team_total_runs = team_data['runs'].sum()"
   ]
  },
  {
   "cell_type": "code",
   "execution_count": null,
   "id": "bffaddec",
   "metadata": {},
   "outputs": [],
   "source": [
    "if over < 20:\n",
    "    new_prediction = reg.predict(\n",
    "        sc.transform(np.array([[runs, wicket, over, striker, non_striker, batting_team_total_runs]])))\n",
    "else:\n",
    "    print(\"This is a T20 Match\")\n",
    "    \n",
    "print(\"Prediction score:\", new_prediction)"
   ]
  }
 ],
 "metadata": {
  "kernelspec": {
   "display_name": "Python 3 (ipykernel)",
   "language": "python",
   "name": "python3"
  },
  "language_info": {
   "codemirror_mode": {
    "name": "ipython",
    "version": 3
   },
   "file_extension": ".py",
   "mimetype": "text/x-python",
   "name": "python",
   "nbconvert_exporter": "python",
   "pygments_lexer": "ipython3",
   "version": "3.9.13"
  }
 },
 "nbformat": 4,
 "nbformat_minor": 5
}
