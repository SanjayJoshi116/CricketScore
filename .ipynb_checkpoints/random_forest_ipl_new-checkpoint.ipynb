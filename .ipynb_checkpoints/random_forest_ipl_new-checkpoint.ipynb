{
 "cells": [
  {
   "cell_type": "code",
   "execution_count": null,
   "id": "b81bae2d",
   "metadata": {},
   "outputs": [],
   "source": [
    "import pandas as pd\n",
    "import numpy as np\n",
    "dataset = pd.read_csv('ipl.csv')"
   ]
  },
  {
   "cell_type": "code",
   "execution_count": null,
   "id": "f5cb2629",
   "metadata": {},
   "outputs": [],
   "source": [
    "X = dataset.iloc[:, [7, 8, 9, 12, 13, 15]].values  # Include the new feature\n",
    "y = dataset.iloc[:, 14].values"
   ]
  },
  {
   "cell_type": "code",
   "execution_count": null,
   "id": "3bde2e61",
   "metadata": {},
   "outputs": [],
   "source": [
    "from sklearn.model_selection import train_test_split\n",
    "from sklearn.preprocessing import StandardScaler\n",
    "from sklearn.ensemble import RandomForestRegressor"
   ]
  },
  {
   "cell_type": "code",
   "execution_count": null,
   "id": "d2fc68d3",
   "metadata": {},
   "outputs": [],
   "source": [
    "# Split the dataset into training and testing sets\n",
    "X_train, X_test, y_train, y_test = train_test_split(X, y, test_size=0.25, random_state=0)"
   ]
  },
  {
   "cell_type": "code",
   "execution_count": null,
   "id": "81a5656c",
   "metadata": {},
   "outputs": [],
   "source": [
    "# Scale the features\n",
    "sc = StandardScaler()\n",
    "X_train = sc.fit_transform(X_train)\n",
    "X_test = sc.transform(X_test)"
   ]
  },
  {
   "cell_type": "code",
   "execution_count": null,
   "id": "67eece04",
   "metadata": {},
   "outputs": [],
   "source": [
    "# Train the RandomForestRegressor model\n",
    "reg = RandomForestRegressor(n_estimators=100, max_features=None)\n",
    "reg.fit(X_train, y_train)"
   ]
  },
  {
   "cell_type": "code",
   "execution_count": null,
   "id": "5ce95de0",
   "metadata": {},
   "outputs": [],
   "source": [
    "y_pred = reg.predict(X_test)\n",
    "score = reg.score(X_test, y_test) * 100\n",
    "print(\"R square value:\", score)"
   ]
  },
  {
   "cell_type": "code",
   "execution_count": null,
   "id": "eb69bb8e",
   "metadata": {},
   "outputs": [],
   "source": [
    "import tkinter as tk\n",
    "from tkinter import ttk\n",
    "import pandas as pd\n",
    "\n",
    "def fetch_stadiums(dataset_path):\n",
    "    dataset = pd.read_csv(dataset_path)\n",
    "    stadiums = dataset['venue'].unique().tolist()\n",
    "    return stadiums\n",
    "\n",
    "dataset_path = 'ipl.csv'\n",
    "stadiums = fetch_stadiums(dataset_path)\n",
    "\n",
    "# Create the Tkinter window\n",
    "window = tk.Tk()\n",
    "window.title(\"Stadiums Dropdown\")\n",
    "\n",
    "# Create a variable to store the selected stadium\n",
    "selected_stadium = tk.StringVar()\n",
    "\n",
    "# Create a dropdown list\n",
    "stadium_dropdown = ttk.Combobox(window, textvariable=selected_stadium)\n",
    "stadium_dropdown['values'] = stadiums\n",
    "stadium_dropdown.pack()\n",
    "\n",
    "# Function to handle the selection change\n",
    "def on_stadium_selected(event):\n",
    "    selected_value = selected_stadium.get()\n",
    "    print(\"Selected Stadium:\", selected_value)\n",
    "\n",
    "# Bind the selection change event to the function\n",
    "stadium_dropdown.bind(\"<<ComboboxSelected>>\", on_stadium_selected)\n",
    "\n",
    "# Start the Tkinter event loop\n",
    "window.mainloop()\n"
   ]
  },
  {
   "cell_type": "code",
   "execution_count": null,
   "id": "9d1b57b0",
   "metadata": {},
   "outputs": [],
   "source": [
    "import tkinter as tk\n",
    "from tkinter import ttk\n",
    "import pandas as pd\n",
    "\n",
    "def fetch_batting_teams(dataset_path):\n",
    "    dataset = pd.read_csv(dataset_path)\n",
    "    batting_teams = dataset['bat_team'].unique().tolist()\n",
    "    return batting_teams\n",
    "\n",
    "dataset_path = 'ipl.csv'\n",
    "batting_teams = fetch_batting_teams(dataset_path)\n",
    "\n",
    "# Create the Tkinter window\n",
    "window = tk.Tk()\n",
    "window.title(\"Batting Teams Dropdown\")\n",
    "\n",
    "# Create a variable to store the selected batting team\n",
    "selected_team = tk.StringVar()\n",
    "\n",
    "# Create a dropdown list\n",
    "team_dropdown = ttk.Combobox(window, textvariable=selected_team)\n",
    "team_dropdown['values'] = batting_teams\n",
    "team_dropdown.pack()\n",
    "\n",
    "# Function to handle the selection change\n",
    "def on_team_selected(event):\n",
    "    selected_value = selected_team.get()\n",
    "    print(\"Selected Batting Team:\", selected_value)\n",
    "\n",
    "# Bind the selection change event to the function\n",
    "team_dropdown.bind(\"<<ComboboxSelected>>\", on_team_selected)\n",
    "\n",
    "# Start the Tkinter event loop\n",
    "window.mainloop()\n"
   ]
  },
  {
   "cell_type": "code",
   "execution_count": null,
   "id": "2291ef31",
   "metadata": {},
   "outputs": [],
   "source": [
    "import tkinter as tk\n",
    "from tkinter import ttk\n",
    "import pandas as pd\n",
    "\n",
    "def fetch_bowling_teams(dataset_path):\n",
    "    dataset = pd.read_csv(dataset_path)\n",
    "    bowling_teams = dataset['bowl_team'].unique().tolist()\n",
    "    return bowling_teams\n",
    "\n",
    "def create_dropdown_list(values):\n",
    "    window = tk.Tk()\n",
    "    window.title(\"Bowling Teams Dropdown\")\n",
    "\n",
    "    selected_team = tk.StringVar()\n",
    "    team_dropdown = ttk.Combobox(window, textvariable=selected_team)\n",
    "    team_dropdown['values'] = values\n",
    "    team_dropdown.pack()\n",
    "\n",
    "    def on_team_selected(event):\n",
    "        selected_value = selected_team.get()\n",
    "        print(\"Selected Bowling Team:\", selected_value)\n",
    "\n",
    "    team_dropdown.bind(\"<<ComboboxSelected>>\", on_team_selected)\n",
    "\n",
    "    window.mainloop()\n",
    "\n",
    "dataset_path = 'ipl.csv'\n",
    "bowling_teams = fetch_bowling_teams(dataset_path)\n",
    "create_dropdown_list(bowling_teams)\n"
   ]
  },
  {
   "cell_type": "code",
   "execution_count": null,
   "id": "f0868a0e",
   "metadata": {},
   "outputs": [],
   "source": [
    "runs = int(input(\"Enter Runs: \"))\n",
    "wicket = int(input(\"Enter Wickets: \"))\n",
    "over = int(input(\"Enter Overs: \"))\n",
    "striker = int(input(\"Enter Striker's Runs: \"))\n",
    "non_striker = int(input(\"Enter Non Striker's Runs: \"))"
   ]
  },
  {
   "cell_type": "code",
   "execution_count": null,
   "id": "bffaddec",
   "metadata": {},
   "outputs": [],
   "source": [
    "if over < 20:\n",
    "    new_prediction = reg.predict(\n",
    "        sc.transform(np.array([[runs, wicket, over, striker, non_striker, batting_team_total_runs]])))\n",
    "else:\n",
    "    print(\"This is a T20 Match\")\n",
    "    \n",
    "print(\"Prediction score:\", new_prediction)"
   ]
  }
 ],
 "metadata": {
  "kernelspec": {
   "display_name": "Python 3 (ipykernel)",
   "language": "python",
   "name": "python3"
  },
  "language_info": {
   "codemirror_mode": {
    "name": "ipython",
    "version": 3
   },
   "file_extension": ".py",
   "mimetype": "text/x-python",
   "name": "python",
   "nbconvert_exporter": "python",
   "pygments_lexer": "ipython3",
   "version": "3.9.13"
  }
 },
 "nbformat": 4,
 "nbformat_minor": 5
}
